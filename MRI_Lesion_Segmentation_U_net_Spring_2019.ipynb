{
  "nbformat": 4,
  "nbformat_minor": 0,
  "metadata": {
    "colab": {
      "name": "MRI Lesion Segmentation - U-net - Spring 2019.ipynb",
      "provenance": [],
      "collapsed_sections": [],
      "include_colab_link": true
    },
    "kernelspec": {
      "name": "python3",
      "display_name": "Python 3"
    },
    "accelerator": "GPU"
  },
  "cells": [
    {
      "cell_type": "markdown",
      "metadata": {
        "id": "view-in-github",
        "colab_type": "text"
      },
      "source": [
        "<a href=\"https://colab.research.google.com/github/Muhammad-usama-khan/MRI-Lesion-Segmentation/blob/master/MRI_Lesion_Segmentation_U_net_Spring_2019.ipynb\" target=\"_parent\"><img src=\"https://colab.research.google.com/assets/colab-badge.svg\" alt=\"Open In Colab\"/></a>"
      ]
    },
    {
      "cell_type": "code",
      "metadata": {
        "id": "_MdwmQUCrc14",
        "colab_type": "code",
        "outputId": "6d08566b-c1ff-4f28-875d-f8ef00f7b9d6",
        "colab": {
          "base_uri": "https://localhost:8080/",
          "height": 35
        }
      },
      "source": [
        "import os\n",
        "import glob\n",
        "import zipfile\n",
        "import functools\n",
        "import keras\n",
        "\n",
        "import os\n",
        "from os import listdir\n",
        "from os.path import isfile, join\n",
        "import matplotlib.pyplot as plt\n",
        "\n",
        "\n",
        "from keras.models import load_model\n",
        "from keras.preprocessing import image\n",
        "import numpy as np\n",
        "import matplotlib.pyplot as plt\n",
        "\n",
        "from keras.preprocessing.image import ImageDataGenerator\n",
        "from keras.callbacks import ModelCheckpoint\n",
        "from keras.callbacks import TensorBoard\n",
        "from keras.callbacks import CSVLogger\n",
        "\n",
        "import numpy as np\n",
        "import matplotlib.pyplot as plt\n",
        "import matplotlib as mpl\n",
        "mpl.rcParams['axes.grid'] = False\n",
        "mpl.rcParams['figure.figsize'] = (12,12)\n",
        "\n",
        "from sklearn.model_selection import train_test_split\n",
        "import matplotlib.image as mpimg\n",
        "import pandas as pd\n",
        "from PIL import Image\n",
        "\n",
        "import tensorflow as tf\n",
        "import tensorflow.contrib as tfcontrib\n",
        "from tensorflow.python.keras import layers\n",
        "from tensorflow.python.keras import losses\n",
        "from tensorflow.python.keras import models\n",
        "from tensorflow.python.keras import backend as K"
      ],
      "execution_count": 0,
      "outputs": [
        {
          "output_type": "stream",
          "text": [
            "Using TensorFlow backend.\n"
          ],
          "name": "stderr"
        }
      ]
    },
    {
      "cell_type": "code",
      "metadata": {
        "id": "Etqxm9KMNLXw",
        "colab_type": "code",
        "colab": {}
      },
      "source": [
        "# Install the PyDrive wrapper & import libraries.\n",
        "# This only needs to be done once per notebook.\n",
        "!pip install -U -q PyDrive\n",
        "from pydrive.auth import GoogleAuth\n",
        "from pydrive.drive import GoogleDrive\n",
        "from google.colab import auth\n",
        "from oauth2client.client import GoogleCredentials"
      ],
      "execution_count": 0,
      "outputs": []
    },
    {
      "cell_type": "code",
      "metadata": {
        "id": "Ae-xzpuZNSi6",
        "colab_type": "code",
        "colab": {}
      },
      "source": [
        "# Authenticate and create the PyDrive client.\n",
        "# This only needs to be done once per notebook.\n",
        "auth.authenticate_user()\n",
        "gauth = GoogleAuth()\n",
        "gauth.credentials = GoogleCredentials.get_application_default()\n",
        "drive = GoogleDrive(gauth)"
      ],
      "execution_count": 0,
      "outputs": []
    },
    {
      "cell_type": "code",
      "metadata": {
        "id": "z8YBcGM5N4i4",
        "colab_type": "code",
        "colab": {}
      },
      "source": [
        "# Download a file based on its file ID.\n",
        "#\n",
        "# A file ID looks like: laggVyWshwcyP6kEI-y_W3P8D26sz\n",
        "file_id = '1uN-MlArWzAUY9lSHUaxUfLTax9ORiq6Q'"
      ],
      "execution_count": 0,
      "outputs": []
    },
    {
      "cell_type": "code",
      "metadata": {
        "id": "PA8S6w59iCHO",
        "colab_type": "code",
        "outputId": "0a777166-803e-44eb-8fe3-8e2d568ebc8b",
        "colab": {
          "base_uri": "https://localhost:8080/",
          "height": 123
        }
      },
      "source": [
        "from google.colab import drive\n",
        "drive.mount('/content/drive')"
      ],
      "execution_count": 0,
      "outputs": [
        {
          "output_type": "stream",
          "text": [
            "Go to this URL in a browser: https://accounts.google.com/o/oauth2/auth?client_id=947318989803-6bn6qk8qdgf4n4g3pfee6491hc0brc4i.apps.googleusercontent.com&redirect_uri=urn%3Aietf%3Awg%3Aoauth%3A2.0%3Aoob&scope=email%20https%3A%2F%2Fwww.googleapis.com%2Fauth%2Fdocs.test%20https%3A%2F%2Fwww.googleapis.com%2Fauth%2Fdrive%20https%3A%2F%2Fwww.googleapis.com%2Fauth%2Fdrive.photos.readonly%20https%3A%2F%2Fwww.googleapis.com%2Fauth%2Fpeopleapi.readonly&response_type=code\n",
            "\n",
            "Enter your authorization code:\n",
            "··········\n",
            "Mounted at /content/drive\n"
          ],
          "name": "stdout"
        }
      ]
    },
    {
      "cell_type": "code",
      "metadata": {
        "id": "eTX1y4_TsKMT",
        "colab_type": "code",
        "colab": {}
      },
      "source": [
        "img_shape = (256, 256,1)\n"
      ],
      "execution_count": 0,
      "outputs": []
    },
    {
      "cell_type": "code",
      "metadata": {
        "id": "_9RjdbfJsK8I",
        "colab_type": "code",
        "colab": {}
      },
      "source": [
        "def conv_block(input_tensor, num_filters):\n",
        "  encoder = layers.Conv2D(num_filters, (3, 3), padding='same')(input_tensor)\n",
        "  encoder = layers.BatchNormalization()(encoder)\n",
        "  encoder = layers.Activation('relu')(encoder)\n",
        "  encoder = layers.Conv2D(num_filters, (3, 3), padding='same')(encoder)\n",
        "  encoder = layers.BatchNormalization()(encoder)\n",
        "  encoder = layers.Activation('relu')(encoder)\n",
        "  return encoder\n",
        "\n",
        "def encoder_block(input_tensor, num_filters):\n",
        "  encoder = conv_block(input_tensor, num_filters)\n",
        "  encoder_pool = layers.MaxPooling2D((2, 2), strides=(2, 2))(encoder)\n",
        "  \n",
        "  return encoder_pool, encoder\n",
        "\n",
        "def decoder_block(input_tensor, concat_tensor, num_filters):\n",
        "  decoder = layers.Conv2DTranspose(num_filters, (2, 2), strides=(2, 2), padding='same')(input_tensor)\n",
        "  decoder = layers.concatenate([concat_tensor, decoder], axis=-1)\n",
        "  decoder = layers.BatchNormalization()(decoder)\n",
        "  decoder = layers.Activation('relu')(decoder)\n",
        "  decoder = layers.Conv2D(num_filters, (3, 3), padding='same')(decoder)\n",
        "  decoder = layers.BatchNormalization()(decoder)\n",
        "  decoder = layers.Activation('relu')(decoder)\n",
        "  decoder = layers.Conv2D(num_filters, (3, 3), padding='same')(decoder)\n",
        "  decoder = layers.BatchNormalization()(decoder)\n",
        "  decoder = layers.Activation('relu')(decoder)\n",
        "  return decoder"
      ],
      "execution_count": 0,
      "outputs": []
    },
    {
      "cell_type": "code",
      "metadata": {
        "id": "kfO-0xh0sOyc",
        "colab_type": "code",
        "outputId": "39eae191-2554-4511-8f0d-f4383be0621c",
        "colab": {
          "base_uri": "https://localhost:8080/",
          "height": 106
        }
      },
      "source": [
        "inputs = layers.Input(shape=img_shape)\n",
        "# 256\n",
        "encoder0_pool, encoder0 = encoder_block(inputs, 32)\n",
        "# 128\n",
        "encoder1_pool, encoder1 = encoder_block(encoder0_pool, 64)\n",
        "# 64\n",
        "encoder2_pool, encoder2 = encoder_block(encoder1_pool, 128)\n",
        "# 32\n",
        "encoder3_pool, encoder3 = encoder_block(encoder2_pool, 256)\n",
        "# 16\n",
        "encoder4_pool, encoder4 = encoder_block(encoder3_pool, 512)\n",
        "# 8\n",
        "center = conv_block(encoder4_pool, 1024)\n",
        "# center\n",
        "decoder4 = decoder_block(center, encoder4, 512)\n",
        "# 16\n",
        "decoder3 = decoder_block(decoder4, encoder3, 256)\n",
        "# 32\n",
        "decoder2 = decoder_block(decoder3, encoder2, 128)\n",
        "# 64\n",
        "decoder1 = decoder_block(decoder2, encoder1, 64)\n",
        "# 128\n",
        "decoder0 = decoder_block(decoder1, encoder0, 32)\n",
        "# 256\n",
        "outputs = layers.Conv2D(1, (1, 1), activation='sigmoid')(decoder0)"
      ],
      "execution_count": 0,
      "outputs": [
        {
          "output_type": "stream",
          "text": [
            "WARNING: Logging before flag parsing goes to stderr.\n",
            "W0807 17:30:24.959086 140066114365312 deprecation.py:506] From /usr/local/lib/python3.6/dist-packages/tensorflow/python/ops/init_ops.py:1251: calling VarianceScaling.__init__ (from tensorflow.python.ops.init_ops) with dtype is deprecated and will be removed in a future version.\n",
            "Instructions for updating:\n",
            "Call initializer instance with the dtype argument instead of passing it to the constructor\n"
          ],
          "name": "stderr"
        }
      ]
    },
    {
      "cell_type": "code",
      "metadata": {
        "id": "qzo2pZ6FsOxr",
        "colab_type": "code",
        "colab": {}
      },
      "source": [
        "model = models.Model(inputs=[inputs], outputs=[outputs])\n"
      ],
      "execution_count": 0,
      "outputs": []
    },
    {
      "cell_type": "code",
      "metadata": {
        "id": "32G4Tx89sMZj",
        "colab_type": "code",
        "colab": {}
      },
      "source": [
        "def dice_coeff(y_true, y_pred):\n",
        "    smooth = 1.\n",
        "    # Flatten\n",
        "    y_true_f = tf.reshape(y_true, [-1])\n",
        "    y_pred_f = tf.reshape(y_pred, [-1])\n",
        "    intersection = tf.reduce_sum(y_true_f * y_pred_f)\n",
        "    score = (2. * intersection + smooth) / (tf.reduce_sum(y_true_f) + tf.reduce_sum(y_pred_f) + smooth)\n",
        "    return score\n",
        "\n",
        "def dice_loss(y_true, y_pred):\n",
        "    loss = 1 - dice_coeff(y_true, y_pred)\n",
        "    return loss\n",
        "    \n",
        "def bce_dice_loss(y_true, y_pred):\n",
        "    loss = losses.binary_crossentropy(y_true, y_pred) + dice_loss(y_true, y_pred)\n",
        "    return loss\n"
      ],
      "execution_count": 0,
      "outputs": []
    },
    {
      "cell_type": "code",
      "metadata": {
        "id": "xgiRZ9c1sYXV",
        "colab_type": "code",
        "outputId": "7088df0b-d752-476c-ce22-f365b4208720",
        "colab": {
          "base_uri": "https://localhost:8080/",
          "height": 1000
        }
      },
      "source": [
        "model.compile(optimizer='adam', loss=bce_dice_loss, metrics=[dice_loss])\n",
        "model.summary()"
      ],
      "execution_count": 0,
      "outputs": [
        {
          "output_type": "stream",
          "text": [
            "W0807 17:30:27.688434 140066114365312 deprecation.py:323] From /usr/local/lib/python3.6/dist-packages/tensorflow/python/ops/nn_impl.py:180: add_dispatch_support.<locals>.wrapper (from tensorflow.python.ops.array_ops) is deprecated and will be removed in a future version.\n",
            "Instructions for updating:\n",
            "Use tf.where in 2.0, which has the same broadcast rule as np.where\n"
          ],
          "name": "stderr"
        },
        {
          "output_type": "stream",
          "text": [
            "Model: \"model\"\n",
            "__________________________________________________________________________________________________\n",
            "Layer (type)                    Output Shape         Param #     Connected to                     \n",
            "==================================================================================================\n",
            "input_1 (InputLayer)            [(None, 256, 256, 1) 0                                            \n",
            "__________________________________________________________________________________________________\n",
            "conv2d (Conv2D)                 (None, 256, 256, 32) 320         input_1[0][0]                    \n",
            "__________________________________________________________________________________________________\n",
            "batch_normalization (BatchNorma (None, 256, 256, 32) 128         conv2d[0][0]                     \n",
            "__________________________________________________________________________________________________\n",
            "activation (Activation)         (None, 256, 256, 32) 0           batch_normalization[0][0]        \n",
            "__________________________________________________________________________________________________\n",
            "conv2d_1 (Conv2D)               (None, 256, 256, 32) 9248        activation[0][0]                 \n",
            "__________________________________________________________________________________________________\n",
            "batch_normalization_1 (BatchNor (None, 256, 256, 32) 128         conv2d_1[0][0]                   \n",
            "__________________________________________________________________________________________________\n",
            "activation_1 (Activation)       (None, 256, 256, 32) 0           batch_normalization_1[0][0]      \n",
            "__________________________________________________________________________________________________\n",
            "max_pooling2d (MaxPooling2D)    (None, 128, 128, 32) 0           activation_1[0][0]               \n",
            "__________________________________________________________________________________________________\n",
            "conv2d_2 (Conv2D)               (None, 128, 128, 64) 18496       max_pooling2d[0][0]              \n",
            "__________________________________________________________________________________________________\n",
            "batch_normalization_2 (BatchNor (None, 128, 128, 64) 256         conv2d_2[0][0]                   \n",
            "__________________________________________________________________________________________________\n",
            "activation_2 (Activation)       (None, 128, 128, 64) 0           batch_normalization_2[0][0]      \n",
            "__________________________________________________________________________________________________\n",
            "conv2d_3 (Conv2D)               (None, 128, 128, 64) 36928       activation_2[0][0]               \n",
            "__________________________________________________________________________________________________\n",
            "batch_normalization_3 (BatchNor (None, 128, 128, 64) 256         conv2d_3[0][0]                   \n",
            "__________________________________________________________________________________________________\n",
            "activation_3 (Activation)       (None, 128, 128, 64) 0           batch_normalization_3[0][0]      \n",
            "__________________________________________________________________________________________________\n",
            "max_pooling2d_1 (MaxPooling2D)  (None, 64, 64, 64)   0           activation_3[0][0]               \n",
            "__________________________________________________________________________________________________\n",
            "conv2d_4 (Conv2D)               (None, 64, 64, 128)  73856       max_pooling2d_1[0][0]            \n",
            "__________________________________________________________________________________________________\n",
            "batch_normalization_4 (BatchNor (None, 64, 64, 128)  512         conv2d_4[0][0]                   \n",
            "__________________________________________________________________________________________________\n",
            "activation_4 (Activation)       (None, 64, 64, 128)  0           batch_normalization_4[0][0]      \n",
            "__________________________________________________________________________________________________\n",
            "conv2d_5 (Conv2D)               (None, 64, 64, 128)  147584      activation_4[0][0]               \n",
            "__________________________________________________________________________________________________\n",
            "batch_normalization_5 (BatchNor (None, 64, 64, 128)  512         conv2d_5[0][0]                   \n",
            "__________________________________________________________________________________________________\n",
            "activation_5 (Activation)       (None, 64, 64, 128)  0           batch_normalization_5[0][0]      \n",
            "__________________________________________________________________________________________________\n",
            "max_pooling2d_2 (MaxPooling2D)  (None, 32, 32, 128)  0           activation_5[0][0]               \n",
            "__________________________________________________________________________________________________\n",
            "conv2d_6 (Conv2D)               (None, 32, 32, 256)  295168      max_pooling2d_2[0][0]            \n",
            "__________________________________________________________________________________________________\n",
            "batch_normalization_6 (BatchNor (None, 32, 32, 256)  1024        conv2d_6[0][0]                   \n",
            "__________________________________________________________________________________________________\n",
            "activation_6 (Activation)       (None, 32, 32, 256)  0           batch_normalization_6[0][0]      \n",
            "__________________________________________________________________________________________________\n",
            "conv2d_7 (Conv2D)               (None, 32, 32, 256)  590080      activation_6[0][0]               \n",
            "__________________________________________________________________________________________________\n",
            "batch_normalization_7 (BatchNor (None, 32, 32, 256)  1024        conv2d_7[0][0]                   \n",
            "__________________________________________________________________________________________________\n",
            "activation_7 (Activation)       (None, 32, 32, 256)  0           batch_normalization_7[0][0]      \n",
            "__________________________________________________________________________________________________\n",
            "max_pooling2d_3 (MaxPooling2D)  (None, 16, 16, 256)  0           activation_7[0][0]               \n",
            "__________________________________________________________________________________________________\n",
            "conv2d_8 (Conv2D)               (None, 16, 16, 512)  1180160     max_pooling2d_3[0][0]            \n",
            "__________________________________________________________________________________________________\n",
            "batch_normalization_8 (BatchNor (None, 16, 16, 512)  2048        conv2d_8[0][0]                   \n",
            "__________________________________________________________________________________________________\n",
            "activation_8 (Activation)       (None, 16, 16, 512)  0           batch_normalization_8[0][0]      \n",
            "__________________________________________________________________________________________________\n",
            "conv2d_9 (Conv2D)               (None, 16, 16, 512)  2359808     activation_8[0][0]               \n",
            "__________________________________________________________________________________________________\n",
            "batch_normalization_9 (BatchNor (None, 16, 16, 512)  2048        conv2d_9[0][0]                   \n",
            "__________________________________________________________________________________________________\n",
            "activation_9 (Activation)       (None, 16, 16, 512)  0           batch_normalization_9[0][0]      \n",
            "__________________________________________________________________________________________________\n",
            "max_pooling2d_4 (MaxPooling2D)  (None, 8, 8, 512)    0           activation_9[0][0]               \n",
            "__________________________________________________________________________________________________\n",
            "conv2d_10 (Conv2D)              (None, 8, 8, 1024)   4719616     max_pooling2d_4[0][0]            \n",
            "__________________________________________________________________________________________________\n",
            "batch_normalization_10 (BatchNo (None, 8, 8, 1024)   4096        conv2d_10[0][0]                  \n",
            "__________________________________________________________________________________________________\n",
            "activation_10 (Activation)      (None, 8, 8, 1024)   0           batch_normalization_10[0][0]     \n",
            "__________________________________________________________________________________________________\n",
            "conv2d_11 (Conv2D)              (None, 8, 8, 1024)   9438208     activation_10[0][0]              \n",
            "__________________________________________________________________________________________________\n",
            "batch_normalization_11 (BatchNo (None, 8, 8, 1024)   4096        conv2d_11[0][0]                  \n",
            "__________________________________________________________________________________________________\n",
            "activation_11 (Activation)      (None, 8, 8, 1024)   0           batch_normalization_11[0][0]     \n",
            "__________________________________________________________________________________________________\n",
            "conv2d_transpose (Conv2DTranspo (None, 16, 16, 512)  2097664     activation_11[0][0]              \n",
            "__________________________________________________________________________________________________\n",
            "concatenate (Concatenate)       (None, 16, 16, 1024) 0           activation_9[0][0]               \n",
            "                                                                 conv2d_transpose[0][0]           \n",
            "__________________________________________________________________________________________________\n",
            "batch_normalization_12 (BatchNo (None, 16, 16, 1024) 4096        concatenate[0][0]                \n",
            "__________________________________________________________________________________________________\n",
            "activation_12 (Activation)      (None, 16, 16, 1024) 0           batch_normalization_12[0][0]     \n",
            "__________________________________________________________________________________________________\n",
            "conv2d_12 (Conv2D)              (None, 16, 16, 512)  4719104     activation_12[0][0]              \n",
            "__________________________________________________________________________________________________\n",
            "batch_normalization_13 (BatchNo (None, 16, 16, 512)  2048        conv2d_12[0][0]                  \n",
            "__________________________________________________________________________________________________\n",
            "activation_13 (Activation)      (None, 16, 16, 512)  0           batch_normalization_13[0][0]     \n",
            "__________________________________________________________________________________________________\n",
            "conv2d_13 (Conv2D)              (None, 16, 16, 512)  2359808     activation_13[0][0]              \n",
            "__________________________________________________________________________________________________\n",
            "batch_normalization_14 (BatchNo (None, 16, 16, 512)  2048        conv2d_13[0][0]                  \n",
            "__________________________________________________________________________________________________\n",
            "activation_14 (Activation)      (None, 16, 16, 512)  0           batch_normalization_14[0][0]     \n",
            "__________________________________________________________________________________________________\n",
            "conv2d_transpose_1 (Conv2DTrans (None, 32, 32, 256)  524544      activation_14[0][0]              \n",
            "__________________________________________________________________________________________________\n",
            "concatenate_1 (Concatenate)     (None, 32, 32, 512)  0           activation_7[0][0]               \n",
            "                                                                 conv2d_transpose_1[0][0]         \n",
            "__________________________________________________________________________________________________\n",
            "batch_normalization_15 (BatchNo (None, 32, 32, 512)  2048        concatenate_1[0][0]              \n",
            "__________________________________________________________________________________________________\n",
            "activation_15 (Activation)      (None, 32, 32, 512)  0           batch_normalization_15[0][0]     \n",
            "__________________________________________________________________________________________________\n",
            "conv2d_14 (Conv2D)              (None, 32, 32, 256)  1179904     activation_15[0][0]              \n",
            "__________________________________________________________________________________________________\n",
            "batch_normalization_16 (BatchNo (None, 32, 32, 256)  1024        conv2d_14[0][0]                  \n",
            "__________________________________________________________________________________________________\n",
            "activation_16 (Activation)      (None, 32, 32, 256)  0           batch_normalization_16[0][0]     \n",
            "__________________________________________________________________________________________________\n",
            "conv2d_15 (Conv2D)              (None, 32, 32, 256)  590080      activation_16[0][0]              \n",
            "__________________________________________________________________________________________________\n",
            "batch_normalization_17 (BatchNo (None, 32, 32, 256)  1024        conv2d_15[0][0]                  \n",
            "__________________________________________________________________________________________________\n",
            "activation_17 (Activation)      (None, 32, 32, 256)  0           batch_normalization_17[0][0]     \n",
            "__________________________________________________________________________________________________\n",
            "conv2d_transpose_2 (Conv2DTrans (None, 64, 64, 128)  131200      activation_17[0][0]              \n",
            "__________________________________________________________________________________________________\n",
            "concatenate_2 (Concatenate)     (None, 64, 64, 256)  0           activation_5[0][0]               \n",
            "                                                                 conv2d_transpose_2[0][0]         \n",
            "__________________________________________________________________________________________________\n",
            "batch_normalization_18 (BatchNo (None, 64, 64, 256)  1024        concatenate_2[0][0]              \n",
            "__________________________________________________________________________________________________\n",
            "activation_18 (Activation)      (None, 64, 64, 256)  0           batch_normalization_18[0][0]     \n",
            "__________________________________________________________________________________________________\n",
            "conv2d_16 (Conv2D)              (None, 64, 64, 128)  295040      activation_18[0][0]              \n",
            "__________________________________________________________________________________________________\n",
            "batch_normalization_19 (BatchNo (None, 64, 64, 128)  512         conv2d_16[0][0]                  \n",
            "__________________________________________________________________________________________________\n",
            "activation_19 (Activation)      (None, 64, 64, 128)  0           batch_normalization_19[0][0]     \n",
            "__________________________________________________________________________________________________\n",
            "conv2d_17 (Conv2D)              (None, 64, 64, 128)  147584      activation_19[0][0]              \n",
            "__________________________________________________________________________________________________\n",
            "batch_normalization_20 (BatchNo (None, 64, 64, 128)  512         conv2d_17[0][0]                  \n",
            "__________________________________________________________________________________________________\n",
            "activation_20 (Activation)      (None, 64, 64, 128)  0           batch_normalization_20[0][0]     \n",
            "__________________________________________________________________________________________________\n",
            "conv2d_transpose_3 (Conv2DTrans (None, 128, 128, 64) 32832       activation_20[0][0]              \n",
            "__________________________________________________________________________________________________\n",
            "concatenate_3 (Concatenate)     (None, 128, 128, 128 0           activation_3[0][0]               \n",
            "                                                                 conv2d_transpose_3[0][0]         \n",
            "__________________________________________________________________________________________________\n",
            "batch_normalization_21 (BatchNo (None, 128, 128, 128 512         concatenate_3[0][0]              \n",
            "__________________________________________________________________________________________________\n",
            "activation_21 (Activation)      (None, 128, 128, 128 0           batch_normalization_21[0][0]     \n",
            "__________________________________________________________________________________________________\n",
            "conv2d_18 (Conv2D)              (None, 128, 128, 64) 73792       activation_21[0][0]              \n",
            "__________________________________________________________________________________________________\n",
            "batch_normalization_22 (BatchNo (None, 128, 128, 64) 256         conv2d_18[0][0]                  \n",
            "__________________________________________________________________________________________________\n",
            "activation_22 (Activation)      (None, 128, 128, 64) 0           batch_normalization_22[0][0]     \n",
            "__________________________________________________________________________________________________\n",
            "conv2d_19 (Conv2D)              (None, 128, 128, 64) 36928       activation_22[0][0]              \n",
            "__________________________________________________________________________________________________\n",
            "batch_normalization_23 (BatchNo (None, 128, 128, 64) 256         conv2d_19[0][0]                  \n",
            "__________________________________________________________________________________________________\n",
            "activation_23 (Activation)      (None, 128, 128, 64) 0           batch_normalization_23[0][0]     \n",
            "__________________________________________________________________________________________________\n",
            "conv2d_transpose_4 (Conv2DTrans (None, 256, 256, 32) 8224        activation_23[0][0]              \n",
            "__________________________________________________________________________________________________\n",
            "concatenate_4 (Concatenate)     (None, 256, 256, 64) 0           activation_1[0][0]               \n",
            "                                                                 conv2d_transpose_4[0][0]         \n",
            "__________________________________________________________________________________________________\n",
            "batch_normalization_24 (BatchNo (None, 256, 256, 64) 256         concatenate_4[0][0]              \n",
            "__________________________________________________________________________________________________\n",
            "activation_24 (Activation)      (None, 256, 256, 64) 0           batch_normalization_24[0][0]     \n",
            "__________________________________________________________________________________________________\n",
            "conv2d_20 (Conv2D)              (None, 256, 256, 32) 18464       activation_24[0][0]              \n",
            "__________________________________________________________________________________________________\n",
            "batch_normalization_25 (BatchNo (None, 256, 256, 32) 128         conv2d_20[0][0]                  \n",
            "__________________________________________________________________________________________________\n",
            "activation_25 (Activation)      (None, 256, 256, 32) 0           batch_normalization_25[0][0]     \n",
            "__________________________________________________________________________________________________\n",
            "conv2d_21 (Conv2D)              (None, 256, 256, 32) 9248        activation_25[0][0]              \n",
            "__________________________________________________________________________________________________\n",
            "batch_normalization_26 (BatchNo (None, 256, 256, 32) 128         conv2d_21[0][0]                  \n",
            "__________________________________________________________________________________________________\n",
            "activation_26 (Activation)      (None, 256, 256, 32) 0           batch_normalization_26[0][0]     \n",
            "__________________________________________________________________________________________________\n",
            "conv2d_22 (Conv2D)              (None, 256, 256, 1)  33          activation_26[0][0]              \n",
            "==================================================================================================\n",
            "Total params: 31,125,921\n",
            "Trainable params: 31,109,921\n",
            "Non-trainable params: 16,000\n",
            "__________________________________________________________________________________________________\n"
          ],
          "name": "stdout"
        }
      ]
    },
    {
      "cell_type": "code",
      "metadata": {
        "id": "yvlhkuezdC-H",
        "colab_type": "code",
        "colab": {}
      },
      "source": [
        "def adjust_data(img, mask):\n",
        "    mask[mask >= 0.5] = 1\n",
        "    mask[mask < 0.5] = 0\n",
        "    return (img, mask)\n",
        "\n",
        "def train_generator(train_path,data_gen_args,batch_size,target_size):\n",
        "  \n",
        "    image_datagen = ImageDataGenerator(**data_gen_args)\n",
        "    mask_datagen = ImageDataGenerator(**data_gen_args)\n",
        "    \n",
        "    image_generator  = image_datagen.flow_from_directory(\n",
        "        train_path,\n",
        "        classes = ['FLAIR'],\n",
        "        class_mode = None,\n",
        "        color_mode='grayscale', \n",
        "        target_size=target_size,\n",
        "        batch_size=batch_size, \n",
        "        seed=1, \n",
        "        interpolation='nearest')\n",
        "\n",
        "    mask_generator  = mask_datagen.flow_from_directory(\n",
        "        train_path,\n",
        "        classes = ['GT'],\n",
        "        class_mode = None,\n",
        "        color_mode='grayscale', \n",
        "        target_size=target_size,\n",
        "        batch_size=batch_size, \n",
        "        seed=1, \n",
        "        interpolation='nearest')\n",
        "\n",
        "\n",
        "    train_generator = zip(image_generator,mask_generator)  \n",
        "    \n",
        "    for (img, mask) in train_generator:\n",
        "        img, mask = adjust_data(img, mask)\n",
        "        yield (img, mask)\n",
        "        \n",
        "def val_generator(testing_path,data_gen_args,batch_size,target_size):\n",
        "\n",
        "    image_datagen = ImageDataGenerator(**data_gen_args)\n",
        "    mask_datagen = ImageDataGenerator(**data_gen_args)\n",
        "    \n",
        "    image_generator_val  = image_datagen.flow_from_directory(\n",
        "        testing_path,\n",
        "        classes = ['FLAIR'],\n",
        "        class_mode = None,\n",
        "        color_mode='grayscale', \n",
        "        target_size=target_size,\n",
        "        batch_size=batch_size, \n",
        "        seed=1, \n",
        "        interpolation='nearest')\n",
        "\n",
        "\n",
        "    mask_generator_val  = mask_datagen.flow_from_directory(\n",
        "        testing_path,\n",
        "        classes = ['GT'],\n",
        "        class_mode = None,\n",
        "        color_mode='grayscale', \n",
        "        target_size=target_size,\n",
        "        batch_size=batch_size, \n",
        "        seed=1, \n",
        "        interpolation='nearest')\n",
        "\n",
        "\n",
        "    validation_generator = zip(image_generator_val,mask_generator_val)\n",
        "    \n",
        "    for (img, mask) in validation_generator:\n",
        "        img, mask = adjust_data(img, mask)\n",
        "        yield (img, mask)"
      ],
      "execution_count": 0,
      "outputs": []
    },
    {
      "cell_type": "code",
      "metadata": {
        "id": "e2MgcI3T_qMh",
        "colab_type": "code",
        "colab": {}
      },
      "source": [
        "train_path = '/content/drive/My Drive/Colab Notebooks/Neural Networks Project/Data 2/Training/'\n",
        "testing_path = '/content/drive/My Drive/Colab Notebooks/Neural Networks Project/Data 2/Testing/'\n",
        "\n",
        "\n",
        "data_gen_args = dict(shear_range=0.05,      \n",
        "                     zoom_range=0.05,    \n",
        "                     rotation_range=0.2,\n",
        "                     width_shift_range=0.05,\n",
        "                     height_shift_range=0.05,\n",
        "                     horizontal_flip=True,\n",
        "                     vertical_flip=True) \n",
        "\n",
        "data_gen_args2 = dict()\n",
        "\n",
        "\n",
        "batch_size = 16\n",
        "target_size = (256, 256)"
      ],
      "execution_count": 0,
      "outputs": []
    },
    {
      "cell_type": "code",
      "metadata": {
        "id": "R_0JicTDBT9Q",
        "colab_type": "code",
        "outputId": "5da0ceb5-e1db-47de-ddaf-f77c15285550",
        "colab": {
          "base_uri": "https://localhost:8080/",
          "height": 68
        }
      },
      "source": [
        "num_of_train_img_raw=len(os.listdir(train_path +'/FLAIR'))\n",
        "num_of_train_img_gt=len(os.listdir(train_path +'/GT'))\n",
        "\n",
        "num_of_val_img_raw=len(os.listdir(testing_path +'/FLAIR'))\n",
        "num_of_val_img_gt=len(os.listdir(testing_path +'/GT'))\n",
        "\n",
        "print(num_of_train_img_raw,num_of_train_img_gt,num_of_val_img_raw,num_of_val_img_gt)\n",
        "print('Number of Training Images:',  num_of_train_img_raw)\n",
        "print('Number of Validating Images:',  num_of_val_img_raw)\n",
        "\n"
      ],
      "execution_count": 0,
      "outputs": [
        {
          "output_type": "stream",
          "text": [
            "5901 5901 2529 2529\n",
            "Number of Training Images: 5901\n",
            "Number of Validating Images: 2529\n"
          ],
          "name": "stdout"
        }
      ]
    },
    {
      "cell_type": "code",
      "metadata": {
        "id": "5H4qN_NMdIKF",
        "colab_type": "code",
        "colab": {}
      },
      "source": [
        "train_generator = train_generator(train_path, data_gen_args, batch_size, target_size)\n",
        "\n",
        "validation_generator = val_generator(testing_path, data_gen_args2, batch_size, target_size)"
      ],
      "execution_count": 0,
      "outputs": []
    },
    {
      "cell_type": "code",
      "metadata": {
        "id": "tluzZMsLNYpU",
        "colab_type": "code",
        "colab": {}
      },
      "source": [
        "model_path = '/content/drive/My Drive/Colab Notebooks/Neural Networks Project/Data 2/Models/3/'\n",
        "\n",
        "model_checkpoint = tf.keras.callbacks.ModelCheckpoint(filepath=os.path.join(model_path, 'model_unet_batch-16_Train_Test.hdf5'), monitor='val_loss', save_best_only=True)"
      ],
      "execution_count": 0,
      "outputs": []
    },
    {
      "cell_type": "code",
      "metadata": {
        "id": "I5Eki4pp0aG-",
        "colab_type": "code",
        "outputId": "78b3dac1-ad03-4030-a74d-0d618c8309b3",
        "colab": {
          "base_uri": "https://localhost:8080/",
          "height": 1000
        }
      },
      "source": [
        "epochs = 50\n",
        "\n",
        "history = model.fit_generator(\n",
        "     generator = train_generator,\n",
        "     steps_per_epoch = num_of_train_img_raw//batch_size,\n",
        "     epochs = epochs, \n",
        "     validation_data = validation_generator,\n",
        "     validation_steps = num_of_val_img_gt//batch_size,\n",
        "     callbacks=[model_checkpoint])\n",
        "\n"
      ],
      "execution_count": 0,
      "outputs": [
        {
          "output_type": "stream",
          "text": [
            "Found 5901 images belonging to 1 classes.\n",
            "Found 5901 images belonging to 1 classes.\n",
            "Epoch 1/50\n",
            "367/368 [============================>.] - ETA: 15s - loss: 0.8130 - dice_loss: 0.7334Found 2529 images belonging to 1 classes.\n",
            "Found 2529 images belonging to 1 classes.\n",
            "368/368 [==============================] - 8001s 22s/step - loss: 0.8120 - dice_loss: 0.7325 - val_loss: 0.8263 - val_dice_loss: 0.8103\n",
            "Epoch 2/50\n",
            "368/368 [==============================] - 363s 987ms/step - loss: 0.3568 - dice_loss: 0.3383 - val_loss: 0.4460 - val_dice_loss: 0.4378\n",
            "Epoch 3/50\n",
            "368/368 [==============================] - 353s 958ms/step - loss: 0.2905 - dice_loss: 0.2744 - val_loss: 0.4258 - val_dice_loss: 0.4180\n",
            "Epoch 4/50\n",
            "368/368 [==============================] - 350s 951ms/step - loss: 0.2586 - dice_loss: 0.2440 - val_loss: 0.4318 - val_dice_loss: 0.4228\n",
            "Epoch 5/50\n",
            "368/368 [==============================] - 350s 950ms/step - loss: 0.2562 - dice_loss: 0.2414 - val_loss: 0.4985 - val_dice_loss: 0.4875\n",
            "Epoch 6/50\n",
            "368/368 [==============================] - 355s 965ms/step - loss: 0.2402 - dice_loss: 0.2262 - val_loss: 0.3829 - val_dice_loss: 0.3739\n",
            "Epoch 7/50\n",
            "368/368 [==============================] - 351s 953ms/step - loss: 0.2332 - dice_loss: 0.2197 - val_loss: 0.8465 - val_dice_loss: 0.8317\n",
            "Epoch 8/50\n",
            "368/368 [==============================] - 354s 963ms/step - loss: 0.2323 - dice_loss: 0.2188 - val_loss: 0.3659 - val_dice_loss: 0.3578\n",
            "Epoch 9/50\n",
            "368/368 [==============================] - 351s 954ms/step - loss: 0.2362 - dice_loss: 0.2225 - val_loss: 0.3922 - val_dice_loss: 0.3846\n",
            "Epoch 10/50\n",
            "368/368 [==============================] - 351s 954ms/step - loss: 0.2224 - dice_loss: 0.2095 - val_loss: 0.5003 - val_dice_loss: 0.4902\n",
            "Epoch 11/50\n",
            "368/368 [==============================] - 351s 954ms/step - loss: 0.2176 - dice_loss: 0.2049 - val_loss: 0.6122 - val_dice_loss: 0.5903\n",
            "Epoch 12/50\n",
            "368/368 [==============================] - 356s 968ms/step - loss: 0.2174 - dice_loss: 0.2048 - val_loss: 0.3278 - val_dice_loss: 0.3214\n",
            "Epoch 13/50\n",
            "368/368 [==============================] - 351s 955ms/step - loss: 0.2120 - dice_loss: 0.1996 - val_loss: 0.7525 - val_dice_loss: 0.7379\n",
            "Epoch 14/50\n",
            "368/368 [==============================] - 351s 955ms/step - loss: 0.2181 - dice_loss: 0.2056 - val_loss: 0.3630 - val_dice_loss: 0.3559\n",
            "Epoch 15/50\n",
            "368/368 [==============================] - 352s 956ms/step - loss: 0.2063 - dice_loss: 0.1945 - val_loss: 0.4434 - val_dice_loss: 0.4335\n",
            "Epoch 16/50\n",
            "368/368 [==============================] - 352s 956ms/step - loss: 0.2073 - dice_loss: 0.1954 - val_loss: 0.3738 - val_dice_loss: 0.3645\n",
            "Epoch 17/50\n",
            "368/368 [==============================] - 352s 957ms/step - loss: 0.2063 - dice_loss: 0.1944 - val_loss: 0.3680 - val_dice_loss: 0.3606\n",
            "Epoch 18/50\n",
            "368/368 [==============================] - 350s 950ms/step - loss: 0.2050 - dice_loss: 0.1934 - val_loss: 0.3747 - val_dice_loss: 0.3661\n",
            "Epoch 19/50\n",
            "368/368 [==============================] - 350s 951ms/step - loss: 0.2059 - dice_loss: 0.1941 - val_loss: 0.3355 - val_dice_loss: 0.3278\n",
            "Epoch 20/50\n",
            "368/368 [==============================] - 350s 951ms/step - loss: 0.1977 - dice_loss: 0.1864 - val_loss: 0.3560 - val_dice_loss: 0.3472\n",
            "Epoch 21/50\n",
            "368/368 [==============================] - 350s 951ms/step - loss: 0.1986 - dice_loss: 0.1872 - val_loss: 0.5036 - val_dice_loss: 0.4926\n",
            "Epoch 22/50\n",
            "368/368 [==============================] - 351s 953ms/step - loss: 0.2017 - dice_loss: 0.1904 - val_loss: 0.3526 - val_dice_loss: 0.3447\n",
            "Epoch 23/50\n",
            "368/368 [==============================] - 349s 949ms/step - loss: 0.1948 - dice_loss: 0.1837 - val_loss: 0.5027 - val_dice_loss: 0.4880\n",
            "Epoch 24/50\n",
            "368/368 [==============================] - 350s 952ms/step - loss: 0.1942 - dice_loss: 0.1832 - val_loss: 0.3580 - val_dice_loss: 0.3511\n",
            "Epoch 25/50\n",
            "368/368 [==============================] - 351s 953ms/step - loss: 0.1992 - dice_loss: 0.1878 - val_loss: 0.3378 - val_dice_loss: 0.3308\n",
            "Epoch 26/50\n",
            "368/368 [==============================] - 350s 952ms/step - loss: 0.1908 - dice_loss: 0.1799 - val_loss: 0.3909 - val_dice_loss: 0.3825\n",
            "Epoch 27/50\n",
            "368/368 [==============================] - 352s 955ms/step - loss: 0.1929 - dice_loss: 0.1821 - val_loss: 0.3335 - val_dice_loss: 0.3266\n",
            "Epoch 28/50\n",
            "368/368 [==============================] - 352s 955ms/step - loss: 0.1889 - dice_loss: 0.1784 - val_loss: 0.3514 - val_dice_loss: 0.3438\n",
            "Epoch 29/50\n",
            "368/368 [==============================] - 352s 955ms/step - loss: 0.1862 - dice_loss: 0.1757 - val_loss: 0.3555 - val_dice_loss: 0.3483\n",
            "Epoch 30/50\n",
            "368/368 [==============================] - 350s 951ms/step - loss: 0.1878 - dice_loss: 0.1772 - val_loss: 0.3321 - val_dice_loss: 0.3245\n",
            "Epoch 31/50\n",
            "368/368 [==============================] - 350s 951ms/step - loss: 0.1883 - dice_loss: 0.1778 - val_loss: 0.3785 - val_dice_loss: 0.3707\n",
            "Epoch 32/50\n",
            "368/368 [==============================] - 350s 952ms/step - loss: 0.1848 - dice_loss: 0.1744 - val_loss: 0.3381 - val_dice_loss: 0.3314\n",
            "Epoch 33/50\n",
            "368/368 [==============================] - 350s 952ms/step - loss: 0.1842 - dice_loss: 0.1740 - val_loss: 0.3605 - val_dice_loss: 0.3519\n",
            "Epoch 34/50\n",
            "368/368 [==============================] - 353s 958ms/step - loss: 0.1822 - dice_loss: 0.1720 - val_loss: 0.3197 - val_dice_loss: 0.3134\n",
            "Epoch 35/50\n",
            "368/368 [==============================] - 349s 948ms/step - loss: 0.1840 - dice_loss: 0.1737 - val_loss: 0.3362 - val_dice_loss: 0.3290\n",
            "Epoch 36/50\n",
            "368/368 [==============================] - 353s 960ms/step - loss: 0.1849 - dice_loss: 0.1746 - val_loss: 0.3171 - val_dice_loss: 0.3100\n",
            "Epoch 37/50\n",
            "368/368 [==============================] - 349s 948ms/step - loss: 0.1806 - dice_loss: 0.1705 - val_loss: 0.3208 - val_dice_loss: 0.3136\n",
            "Epoch 38/50\n",
            "368/368 [==============================] - 349s 948ms/step - loss: 0.1784 - dice_loss: 0.1684 - val_loss: 0.3297 - val_dice_loss: 0.3226\n",
            "Epoch 39/50\n",
            "368/368 [==============================] - 349s 949ms/step - loss: 0.1793 - dice_loss: 0.1693 - val_loss: 0.3340 - val_dice_loss: 0.3273\n",
            "Epoch 40/50\n",
            "368/368 [==============================] - 348s 947ms/step - loss: 0.1798 - dice_loss: 0.1699 - val_loss: 0.3573 - val_dice_loss: 0.3494\n",
            "Epoch 41/50\n",
            "368/368 [==============================] - 349s 947ms/step - loss: 0.1745 - dice_loss: 0.1647 - val_loss: 0.3701 - val_dice_loss: 0.3627\n",
            "Epoch 42/50\n",
            "368/368 [==============================] - 349s 948ms/step - loss: 0.1772 - dice_loss: 0.1673 - val_loss: 0.3244 - val_dice_loss: 0.3176\n",
            "Epoch 43/50\n",
            "368/368 [==============================] - 348s 946ms/step - loss: 0.1743 - dice_loss: 0.1645 - val_loss: 0.3309 - val_dice_loss: 0.3237\n",
            "Epoch 44/50\n",
            "368/368 [==============================] - 348s 947ms/step - loss: 0.1737 - dice_loss: 0.1639 - val_loss: 0.3297 - val_dice_loss: 0.3213\n",
            "Epoch 45/50\n",
            "368/368 [==============================] - 349s 948ms/step - loss: 0.1789 - dice_loss: 0.1689 - val_loss: 0.5618 - val_dice_loss: 0.5433\n",
            "Epoch 46/50\n",
            "368/368 [==============================] - 349s 949ms/step - loss: 0.1747 - dice_loss: 0.1649 - val_loss: 0.3304 - val_dice_loss: 0.3232\n",
            "Epoch 47/50\n",
            "368/368 [==============================] - 350s 950ms/step - loss: 0.1739 - dice_loss: 0.1644 - val_loss: 0.3220 - val_dice_loss: 0.3150\n",
            "Epoch 48/50\n",
            "368/368 [==============================] - 350s 952ms/step - loss: 0.1714 - dice_loss: 0.1619 - val_loss: 0.3227 - val_dice_loss: 0.3158\n",
            "Epoch 49/50\n",
            "368/368 [==============================] - 351s 954ms/step - loss: 0.1700 - dice_loss: 0.1605 - val_loss: 0.3454 - val_dice_loss: 0.3371\n",
            "Epoch 50/50\n",
            "368/368 [==============================] - 348s 947ms/step - loss: 0.1685 - dice_loss: 0.1592 - val_loss: 0.3307 - val_dice_loss: 0.3235\n"
          ],
          "name": "stdout"
        }
      ]
    },
    {
      "cell_type": "code",
      "metadata": {
        "id": "P_xbI310sfLC",
        "colab_type": "code",
        "outputId": "ea290263-27c0-46f8-9856-70bbea4d4883",
        "colab": {
          "base_uri": "https://localhost:8080/",
          "height": 498
        }
      },
      "source": [
        "dice = history.history['dice_loss']\n",
        "val_dice = history.history['val_dice_loss']\n",
        "\n",
        "loss = history.history['loss']\n",
        "val_loss = history.history['val_loss']\n",
        "\n",
        "epochs_range = range(epochs)\n",
        "\n",
        "plt.figure(figsize=(16, 8))\n",
        "plt.subplot(1, 2, 1)\n",
        "plt.plot(epochs_range, dice, label='Training Dice Loss')\n",
        "plt.plot(epochs_range, val_dice, label='Validation Dice Loss')\n",
        "plt.legend(loc='upper right')\n",
        "plt.title('Training and Validation Dice Loss')\n",
        "\n",
        "plt.subplot(1, 2, 2)\n",
        "plt.plot(epochs_range, loss, label='Training Loss')\n",
        "plt.plot(epochs_range, val_loss, label='Validation Loss')\n",
        "plt.legend(loc='upper right')\n",
        "plt.title('Training and Validation Loss')\n",
        "\n",
        "plt.show()"
      ],
      "execution_count": 0,
      "outputs": [
        {
          "output_type": "display_data",
          "data": {
            "image/png": "[encoded data removed]",
            "text/plain": [
              "<Figure size 1152x576 with 2 Axes>"
            ]
          },
          "metadata": {
            "tags": []
          }
        }
      ]
    },
    {
      "cell_type": "markdown",
      "metadata": {
        "id": "SBSjlRF2AueC",
        "colab_type": "text"
      },
      "source": [
        "### Getting Prediction"
      ]
    },
    {
      "cell_type": "code",
      "metadata": {
        "id": "TXduSq8aPgtA",
        "colab_type": "code",
        "colab": {}
      },
      "source": [
        "\n",
        "flair_dir = '/content/drive/My Drive/Colab Notebooks/Neural Networks Project/Data 2/Testing/FLAIR/'\n",
        "gt_dir = '/content/drive/My Drive/Colab Notebooks/Neural Networks Project/Data 2/Testing/GT/'\n",
        "\n",
        "flair_name = 'patient_22_extracted_brain_normalised_slice_220.png'\n",
        "gt_name = 'patient_22_gt_slice_220.png'\n"
      ],
      "execution_count": 0,
      "outputs": []
    },
    {
      "cell_type": "code",
      "metadata": {
        "id": "irBIP-aN2GSF",
        "colab_type": "code",
        "outputId": "ffa81ecb-47b4-494b-ef2d-2dc354ec5ad9",
        "colab": {
          "base_uri": "https://localhost:8080/",
          "height": 192
        }
      },
      "source": [
        "model_path_8 = '/content/drive/My Drive/Colab Notebooks/Neural Networks Project/Data 2/Models/3/model_unet_batch-16_Train_Test.hdf5'\n",
        "model_path_16 = '/content/drive/My Drive/Colab Notebooks/Neural Networks Project/Data 2/Models/3/model_unet_batch-8_Train_Test.hdf5'\n",
        "\n",
        "\n",
        "\n",
        "model_8 = models.load_model(model_path_8, custom_objects={'bce_dice_loss': bce_dice_loss,'dice_loss': dice_loss})"
      ],
      "execution_count": 0,
      "outputs": [
        {
          "output_type": "stream",
          "text": [
            "W0807 17:30:57.815639 140066114365312 deprecation.py:506] From /usr/local/lib/python3.6/dist-packages/tensorflow/python/ops/init_ops.py:97: calling GlorotUniform.__init__ (from tensorflow.python.ops.init_ops) with dtype is deprecated and will be removed in a future version.\n",
            "Instructions for updating:\n",
            "Call initializer instance with the dtype argument instead of passing it to the constructor\n",
            "W0807 17:30:57.822259 140066114365312 deprecation.py:506] From /usr/local/lib/python3.6/dist-packages/tensorflow/python/ops/init_ops.py:97: calling Zeros.__init__ (from tensorflow.python.ops.init_ops) with dtype is deprecated and will be removed in a future version.\n",
            "Instructions for updating:\n",
            "Call initializer instance with the dtype argument instead of passing it to the constructor\n",
            "W0807 17:30:57.827886 140066114365312 deprecation.py:506] From /usr/local/lib/python3.6/dist-packages/tensorflow/python/ops/init_ops.py:97: calling Ones.__init__ (from tensorflow.python.ops.init_ops) with dtype is deprecated and will be removed in a future version.\n",
            "Instructions for updating:\n",
            "Call initializer instance with the dtype argument instead of passing it to the constructor\n"
          ],
          "name": "stderr"
        }
      ]
    },
    {
      "cell_type": "code",
      "metadata": {
        "id": "IOeoEaMp2ohD",
        "colab_type": "code",
        "outputId": "5e1681ee-ebe5-4a33-a3ac-c9bc99cbf572",
        "colab": {
          "base_uri": "https://localhost:8080/",
          "height": 51
        }
      },
      "source": [
        "img_width, img_height = 256, 256\n",
        "\n",
        "os.chdir(flair_dir)\n",
        "raw = image.load_img(flair_dir+flair_name, target_size=(img_width, img_height), grayscale = True, color_mode = 'grayscale')\n",
        "raw = image.img_to_array(raw)\n",
        "raw= np.expand_dims(raw, axis=0)\n",
        "raw = np.vstack([raw])\n",
        "\n",
        "os.chdir(gt_dir)\n",
        "gt = image.load_img(gt_dir+gt_name, target_size=(img_width, img_height), grayscale = True, color_mode = 'grayscale')\n",
        "\n",
        "\n",
        "pred = model_8.predict(raw)\n",
        "pred = pred.reshape(256,256)"
      ],
      "execution_count": 0,
      "outputs": [
        {
          "output_type": "stream",
          "text": [
            "/usr/local/lib/python3.6/dist-packages/keras_preprocessing/image/utils.py:104: UserWarning: grayscale is deprecated. Please use color_mode = \"grayscale\"\n",
            "  warnings.warn('grayscale is deprecated. Please use '\n"
          ],
          "name": "stderr"
        }
      ]
    },
    {
      "cell_type": "code",
      "metadata": {
        "id": "wM8ZOmSz24as",
        "colab_type": "code",
        "outputId": "ebc4ddda-088c-43cd-e113-ac5a75047d96",
        "colab": {
          "base_uri": "https://localhost:8080/",
          "height": 312
        }
      },
      "source": [
        "raw = image.load_img(flair_dir+flair_name, target_size=(img_width, img_height), grayscale = True, color_mode = 'grayscale')\n",
        "\n",
        "plt.subplot(131)\n",
        "plt.imshow(raw, cmap='gray') # GROUNT TRUTH ON THE LEFT\n",
        "plt.title('Raw Image')\n",
        "\n",
        "plt.subplot(132)\n",
        "plt.imshow(gt, cmap='gray') # GROUNT TRUTH ON THE LEFT\n",
        "plt.title('Ground Truth')\n",
        "\n",
        "plt.subplot(133)\n",
        "plt.imshow(pred, cmap='gray') # PREFICTION ON THE RIGHT\n",
        "plt.title('Prediction')\n"
      ],
      "execution_count": 0,
      "outputs": [
        {
          "output_type": "stream",
          "text": [
            "/usr/local/lib/python3.6/dist-packages/keras_preprocessing/image/utils.py:104: UserWarning: grayscale is deprecated. Please use color_mode = \"grayscale\"\n",
            "  warnings.warn('grayscale is deprecated. Please use '\n"
          ],
          "name": "stderr"
        },
        {
          "output_type": "execute_result",
          "data": {
            "text/plain": [
              "Text(0.5, 1.0, 'Prediction')"
            ]
          },
          "metadata": {
            "tags": []
          },
          "execution_count": 17
        },
        {
          "output_type": "display_data",
          "data": {
            "image/png": "[encoded data removed]",
            "text/plain": [
              "<Figure size 864x864 with 3 Axes>"
            ]
          },
          "metadata": {
            "tags": []
          }
        }
      ]
    }
  ]
}